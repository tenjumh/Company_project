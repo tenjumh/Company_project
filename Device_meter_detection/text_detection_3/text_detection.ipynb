{
 "cells": [
  {
   "cell_type": "code",
   "execution_count": 1,
   "metadata": {},
   "outputs": [],
   "source": [
    "import cv2\n",
    "import numpy as np\n",
    "from PIL import Image\n",
    "import matplotlib.pyplot as plt\n",
    "from PIL import Image\n",
    "import os"
   ]
  },
  {
   "cell_type": "code",
   "execution_count": 2,
   "metadata": {},
   "outputs": [],
   "source": [
    "img=cv2.imread('./image/1 (4).png')\n",
    "imgray = cv2.cvtColor(img, cv2.COLOR_BGR2GRAY)\n",
    "\n",
    "ret, thr = cv2.threshold(imgray, 127, 255, 0)\n",
    "_, contours, _ = cv2.findContours(thr, cv2.RETR_TREE,\n",
    "                                 cv2.CHAIN_APPROX_SIMPLE)\n",
    "\n",
    "cv2.drawContours(img, contours, -1, (0, 0, 255), 1)\n",
    "cv2.imshow('imgray', img)\n",
    "cv2.imshow('thresh', thr)\n",
    "\n",
    "cv2.waitKey(0)\n",
    "cv2.destroyAllWindows()"
   ]
  },
  {
   "cell_type": "code",
   "execution_count": 6,
   "metadata": {},
   "outputs": [
    {
     "name": "stdout",
     "output_type": "stream",
     "text": [
      "[[250 250 250 ... 250 250 250]\n",
      " [250 250 250 ... 250 250 250]\n",
      " [250 250 250 ... 250 250 250]\n",
      " ...\n",
      " [250 250 250 ...   0   0   0]\n",
      " [250 250 250 ...   0   0   0]\n",
      " [250 250 250 ...   0   0   0]]\n"
     ]
    }
   ],
   "source": [
    "img=cv2.imread('./image/1 (4).png', cv2.IMREAD_GRAYSCALE)\n",
    "ret, bImage = cv2.threshold(img, 50, 250, cv2.THRESH_BINARY_INV)\n",
    "print(bImage)\n",
    "cv2.imshow('img', img)\n",
    "cv2.imshow('bImage', bImage)\n",
    "cv2.waitKey(0)\n",
    "cv2.destroyAllWindows()"
   ]
  },
  {
   "cell_type": "code",
   "execution_count": null,
   "metadata": {},
   "outputs": [],
   "source": [
    "kernel= cv2.getStructuringElement(shape=cv2.MORPH_RECT, ksize=(5,3))\n",
    "#kernel = np.ones((5,5), np.uint8)\n",
    "closing = cv2.morphologyEx(bImage, cv2.MORPH_OPEN,kernel,iterations = 3)\n",
    "contours = cv2.findContours(closing, cv2.RETR_EXTERNAL, cv2.CHAIN_APPROX_SIMPLE)[1]\n",
    "rects = []\n",
    "img_w = img.shape[1]\n",
    "for i, cnt in enumerate(contours):\n",
    "    x, y, w, h = cv2.boundingRect(cnt)\n",
    "    print(x, y, w, h)\n",
    "    #if h < 30: continue # 너무 작으면 생략하기\n",
    "    #if w < 30: continue\n",
    "    #if w > im_w / 5: continue # 너무 크면 생략하기\n",
    "    #y2 = round(y / 10) * 10 # Y좌표 맞추기\n",
    "    index = y\n",
    "    rects.append((index, x, y, w, h))              #(index, x, y, w, h)) "
   ]
  },
  {
   "cell_type": "code",
   "execution_count": null,
   "metadata": {},
   "outputs": [],
   "source": [
    "    \n",
    "rects = sorted(rects, key=lambda x:x[0]) # 정렬하기\n",
    "img_result = []\n",
    "img_for_class = img.copy()\n",
    "\n",
    "margin_pixel = 10\n",
    "margin_pixel1 = 0\n",
    "\n",
    "for rect in rects:\n",
    "    #[y:y+h, x:x+w]\n",
    "    img_result.append(\n",
    "        img_for_class[rect[2]-margin_pixel : rect[2]+rect[4]+margin_pixel, \n",
    "                      rect[1]-margin_pixel1 : rect[1]+rect[3]+margin_pixel1])\n",
    "    \n",
    "    # Draw the rectangles\n",
    "    cv2.rectangle(img, (rect[1], rect[2]), \n",
    "                  (rect[1] + rect[3], rect[2] + rect[4]), (0, 255, 0), 0) "
   ]
  },
  {
   "cell_type": "code",
   "execution_count": null,
   "metadata": {},
   "outputs": [],
   "source": [
    "cv2.imshow('closing', closing)\n",
    "cv2.imshow('img_for_class', cv2.imshow)\n",
    "cv2.waitKey()\n",
    "cv2.destroyAllWindows()"
   ]
  },
  {
   "cell_type": "code",
   "execution_count": null,
   "metadata": {},
   "outputs": [],
   "source": []
  }
 ],
 "metadata": {
  "kernelspec": {
   "display_name": "Python 3",
   "language": "python",
   "name": "python3"
  },
  "language_info": {
   "codemirror_mode": {
    "name": "ipython",
    "version": 3
   },
   "file_extension": ".py",
   "mimetype": "text/x-python",
   "name": "python",
   "nbconvert_exporter": "python",
   "pygments_lexer": "ipython3",
   "version": "3.6.10"
  }
 },
 "nbformat": 4,
 "nbformat_minor": 4
}
