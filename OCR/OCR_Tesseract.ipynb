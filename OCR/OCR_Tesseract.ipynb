{
 "cells": [
  {
   "cell_type": "markdown",
   "metadata": {},
   "source": [
    "# Tesseract 설치 방법\n",
    "- https://github.com/UB-Mannheim/tesseract/wiki 다운로드\n",
    "- 설치시 추가 언어, script 설정해 줄 것\n",
    "- 중요 : 환경변수에 경로 설정해 줄 것\n",
    "- path에 Tesseract-OCR 경로 설정해 줄것"
   ]
  },
  {
   "cell_type": "code",
   "execution_count": 2,
   "metadata": {},
   "outputs": [],
   "source": [
    "# import the necessary packages\n",
    "try:\n",
    "    import Image\n",
    "except ImportError:\n",
    "    from PIL import Image\n",
    "import pytesseract\n",
    "pytesseract.pytesseract.tesseract_cmd = 'C:/Program Files/Tesseract-OCR/tesseract.exe'\n",
    "import argparse\n",
    "import cv2\n",
    "import os"
   ]
  },
  {
   "cell_type": "code",
   "execution_count": 3,
   "metadata": {},
   "outputs": [
    {
     "name": "stdout",
     "output_type": "stream",
     "text": [
      "소년\n",
      "\n",
      "여기저기서 단품잎 같은 슬픈 가을이 뚝뚝 멀어진다. 단품잎\n",
      "떨어져 나온 자리마다 봄을 마련해 놓고 나못가지 위에 하늘이\n",
      "펼쳐 있다. 가만히 하늘을 들여다보려면 눈썸에 파란 물감이\n",
      "든다. 두손으로 따뜻한 볼을 쓸어 보면 손바닥에도 파란 물감\n",
      "이 묻어난다. 다시 손바닥을 들여다본다. 손금에는 맑은 강물\n",
      "이 흐르고, 맑은 강물이 흐르고, 강물 속에는 사랑처럼 슬픈 얼\n",
      "굴- 아름다운 순이의 얼굴이 어린다. 소년은 황졸히눈을\n",
      "감아 본다. 그래도 맑은 강물은 러 사랑처럼 슬픈 얼굴\n",
      "아름다운 순이의 얼굴은 어린다.\n"
     ]
    }
   ],
   "source": [
    "print(pytesseract.image_to_string(Image.open('./image/hangul.png'), lang='kor'))"
   ]
  },
  {
   "cell_type": "code",
   "execution_count": null,
   "metadata": {},
   "outputs": [],
   "source": []
  }
 ],
 "metadata": {
  "kernelspec": {
   "display_name": "Python 3",
   "language": "python",
   "name": "python3"
  },
  "language_info": {
   "codemirror_mode": {
    "name": "ipython",
    "version": 3
   },
   "file_extension": ".py",
   "mimetype": "text/x-python",
   "name": "python",
   "nbconvert_exporter": "python",
   "pygments_lexer": "ipython3",
   "version": "3.6.10"
  }
 },
 "nbformat": 4,
 "nbformat_minor": 4
}
