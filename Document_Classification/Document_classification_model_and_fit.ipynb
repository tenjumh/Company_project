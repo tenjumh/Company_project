{
 "cells": [
  {
   "cell_type": "code",
   "execution_count": 1,
   "metadata": {},
   "outputs": [
    {
     "name": "stdout",
     "output_type": "stream",
     "text": [
      "[]\n"
     ]
    },
    {
     "ename": "ValueError",
     "evalue": "With n_samples=0, test_size=0.25 and train_size=None, the resulting train set will be empty. Adjust any of the aforementioned parameters.",
     "output_type": "error",
     "traceback": [
      "\u001b[1;31m---------------------------------------------------------------------------\u001b[0m",
      "\u001b[1;31mValueError\u001b[0m                                Traceback (most recent call last)",
      "\u001b[1;32m<ipython-input-1-07bf14f8c800>\u001b[0m in \u001b[0;36m<module>\u001b[1;34m\u001b[0m\n\u001b[0;32m      2\u001b[0m \u001b[1;32mimport\u001b[0m \u001b[0mos\u001b[0m\u001b[1;33m,\u001b[0m \u001b[0mglob\u001b[0m\u001b[1;33m,\u001b[0m \u001b[0msys\u001b[0m\u001b[1;33m,\u001b[0m \u001b[0mnumpy\u001b[0m \u001b[1;32mas\u001b[0m \u001b[0mnp\u001b[0m\u001b[1;33m\u001b[0m\u001b[1;33m\u001b[0m\u001b[0m\n\u001b[0;32m      3\u001b[0m \u001b[1;32mfrom\u001b[0m \u001b[0msklearn\u001b[0m\u001b[1;33m.\u001b[0m\u001b[0mmodel_selection\u001b[0m \u001b[1;32mimport\u001b[0m \u001b[0mtrain_test_split\u001b[0m\u001b[1;33m\u001b[0m\u001b[1;33m\u001b[0m\u001b[0m\n\u001b[1;32m----> 4\u001b[1;33m \u001b[1;32mfrom\u001b[0m \u001b[0mSave_dataset_to_npy\u001b[0m \u001b[1;32mimport\u001b[0m \u001b[0mcategories\u001b[0m\u001b[1;33m\u001b[0m\u001b[1;33m\u001b[0m\u001b[0m\n\u001b[0m\u001b[0;32m      5\u001b[0m \u001b[1;32mimport\u001b[0m \u001b[0mmatplotlib\u001b[0m\u001b[1;33m.\u001b[0m\u001b[0mpyplot\u001b[0m \u001b[1;32mas\u001b[0m \u001b[0mplt\u001b[0m\u001b[1;33m\u001b[0m\u001b[1;33m\u001b[0m\u001b[0m\n\u001b[0;32m      6\u001b[0m \u001b[1;33m\u001b[0m\u001b[0m\n",
      "\u001b[1;32mD:\\tenjumh\\1_Company\\Document_Classification\\Save_dataset_to_npy.py\u001b[0m in \u001b[0;36m<module>\u001b[1;34m\u001b[0m\n\u001b[0;32m     55\u001b[0m \u001b[1;31m#0 1 0 0 이면 buddha 이런식\u001b[0m\u001b[1;33m\u001b[0m\u001b[1;33m\u001b[0m\u001b[1;33m\u001b[0m\u001b[0m\n\u001b[0;32m     56\u001b[0m \u001b[1;33m\u001b[0m\u001b[0m\n\u001b[1;32m---> 57\u001b[1;33m \u001b[0mx_train\u001b[0m\u001b[1;33m,\u001b[0m \u001b[0mx_test\u001b[0m\u001b[1;33m,\u001b[0m \u001b[0my_train\u001b[0m\u001b[1;33m,\u001b[0m \u001b[0my_test\u001b[0m \u001b[1;33m=\u001b[0m \u001b[0mtrain_test_split\u001b[0m\u001b[1;33m(\u001b[0m\u001b[0mx\u001b[0m\u001b[1;33m,\u001b[0m \u001b[0my\u001b[0m\u001b[1;33m)\u001b[0m\u001b[1;33m\u001b[0m\u001b[1;33m\u001b[0m\u001b[0m\n\u001b[0m\u001b[0;32m     58\u001b[0m \u001b[0mxy\u001b[0m \u001b[1;33m=\u001b[0m \u001b[1;33m(\u001b[0m\u001b[0mx_train\u001b[0m\u001b[1;33m,\u001b[0m \u001b[0mx_test\u001b[0m\u001b[1;33m,\u001b[0m \u001b[0my_train\u001b[0m\u001b[1;33m,\u001b[0m \u001b[0my_test\u001b[0m\u001b[1;33m)\u001b[0m\u001b[1;33m\u001b[0m\u001b[1;33m\u001b[0m\u001b[0m\n\u001b[0;32m     59\u001b[0m \u001b[0mnp\u001b[0m\u001b[1;33m.\u001b[0m\u001b[0msave\u001b[0m\u001b[1;33m(\u001b[0m\u001b[1;34m\"./document_image_data.npy\"\u001b[0m\u001b[1;33m,\u001b[0m \u001b[0mxy\u001b[0m\u001b[1;33m)\u001b[0m\u001b[1;33m\u001b[0m\u001b[1;33m\u001b[0m\u001b[0m\n",
      "\u001b[1;32mc:\\anaconda3\\envs\\tensorflow\\lib\\site-packages\\sklearn\\model_selection\\_split.py\u001b[0m in \u001b[0;36mtrain_test_split\u001b[1;34m(*arrays, **options)\u001b[0m\n\u001b[0;32m   2120\u001b[0m     \u001b[0mn_samples\u001b[0m \u001b[1;33m=\u001b[0m \u001b[0m_num_samples\u001b[0m\u001b[1;33m(\u001b[0m\u001b[0marrays\u001b[0m\u001b[1;33m[\u001b[0m\u001b[1;36m0\u001b[0m\u001b[1;33m]\u001b[0m\u001b[1;33m)\u001b[0m\u001b[1;33m\u001b[0m\u001b[1;33m\u001b[0m\u001b[0m\n\u001b[0;32m   2121\u001b[0m     n_train, n_test = _validate_shuffle_split(n_samples, test_size, train_size,\n\u001b[1;32m-> 2122\u001b[1;33m                                               default_test_size=0.25)\n\u001b[0m\u001b[0;32m   2123\u001b[0m \u001b[1;33m\u001b[0m\u001b[0m\n\u001b[0;32m   2124\u001b[0m     \u001b[1;32mif\u001b[0m \u001b[0mshuffle\u001b[0m \u001b[1;32mis\u001b[0m \u001b[1;32mFalse\u001b[0m\u001b[1;33m:\u001b[0m\u001b[1;33m\u001b[0m\u001b[1;33m\u001b[0m\u001b[0m\n",
      "\u001b[1;32mc:\\anaconda3\\envs\\tensorflow\\lib\\site-packages\\sklearn\\model_selection\\_split.py\u001b[0m in \u001b[0;36m_validate_shuffle_split\u001b[1;34m(n_samples, test_size, train_size, default_test_size)\u001b[0m\n\u001b[0;32m   1803\u001b[0m             \u001b[1;34m'resulting train set will be empty. Adjust any of the '\u001b[0m\u001b[1;33m\u001b[0m\u001b[1;33m\u001b[0m\u001b[0m\n\u001b[0;32m   1804\u001b[0m             'aforementioned parameters.'.format(n_samples, test_size,\n\u001b[1;32m-> 1805\u001b[1;33m                                                 train_size)\n\u001b[0m\u001b[0;32m   1806\u001b[0m         )\n\u001b[0;32m   1807\u001b[0m \u001b[1;33m\u001b[0m\u001b[0m\n",
      "\u001b[1;31mValueError\u001b[0m: With n_samples=0, test_size=0.25 and train_size=None, the resulting train set will be empty. Adjust any of the aforementioned parameters."
     ]
    }
   ],
   "source": [
    "from PIL import Image\n",
    "import os, glob, sys, numpy as np\n",
    "from sklearn.model_selection import train_test_split\n",
    "from Save_dataset_to_npy import categories\n",
    "import matplotlib.pyplot as plt\n",
    "\n",
    "import keras\n",
    "from keras.utils import np_utils\n",
    "from keras.models import Sequential\n",
    "from keras.layers import Conv2D, MaxPooling2D, Dense, Flatten, Dropout\n",
    "from keras.layers import Conv2D, MaxPooling2D, GlobalAveragePooling2D, BatchNormalization\n",
    "from keras.callbacks import EarlyStopping, ModelCheckpoint\n",
    "import keras.backend.tensorflow_backend as K\n",
    "from keras.preprocessing.image import ImageDataGenerator\n",
    "\n",
    "import tensorflow as tf\n",
    "import cv2\n",
    "\n",
    "tf.__version__"
   ]
  },
  {
   "cell_type": "code",
   "execution_count": 2,
   "metadata": {},
   "outputs": [
    {
     "name": "stdout",
     "output_type": "stream",
     "text": [
      "(314, 224, 224, 3)\n",
      "314\n",
      "(105, 224, 224, 3)\n",
      "105\n",
      "(314, 6)\n",
      "314\n",
      "(105, 6)\n",
      "105\n"
     ]
    },
    {
     "data": {
      "text/plain": [
       "(224, 224, 3)"
      ]
     },
     "execution_count": 2,
     "metadata": {},
     "output_type": "execute_result"
    }
   ],
   "source": [
    "x_train, x_test, y_train, y_test = np.load('./document_image_data.npy', allow_pickle = True)\n",
    "\n",
    "print(x_train.shape)\n",
    "print(x_train.shape[0])\n",
    "print(x_test.shape)\n",
    "print(x_test.shape[0])\n",
    "print(y_train.shape)\n",
    "print(y_train.shape[0])\n",
    "print(y_test.shape)\n",
    "print(y_test.shape[0])\n",
    "x_train.shape[1:]"
   ]
  },
  {
   "cell_type": "code",
   "execution_count": 3,
   "metadata": {},
   "outputs": [
    {
     "name": "stdout",
     "output_type": "stream",
     "text": [
      "['dog', 'eagle', 'elephant', 'horse', 'monkey', 'tiger']\n"
     ]
    }
   ],
   "source": [
    "nb_classes = len(categories)\n",
    "print(categories)\n",
    "batch_size = 16\n",
    "epochs = 25"
   ]
  },
  {
   "cell_type": "code",
   "execution_count": 4,
   "metadata": {},
   "outputs": [],
   "source": [
    "x_train = x_train.astype('float32')\n",
    "x_test = x_test.astype('float32')\n",
    "x_train /= 255\n",
    "x_test /= 255"
   ]
  },
  {
   "cell_type": "code",
   "execution_count": 5,
   "metadata": {},
   "outputs": [],
   "source": [
    "datagen = ImageDataGenerator(featurewise_center=False,  # set input mean to 0 over the dataset\n",
    "                             samplewise_center=False,  # set each sample mean to 0\n",
    "                             featurewise_std_normalization=False,  # divide inputs by std of the dataset\n",
    "                             samplewise_std_normalization=False,  # divide each input by its std\n",
    "                             zca_whitening=False,  # apply ZCA whitening\n",
    "                             zca_epsilon=1e-06,  # epsilon for ZCA whitening\n",
    "                             rotation_range=1,  # randomly rotate images in the range (degrees, 0 to 180)\n",
    "                             # randomly shift images horizontally (fraction of total width)\n",
    "                             width_shift_range=0.05,\n",
    "                             # randomly shift images vertically (fraction of total height)\n",
    "                             height_shift_range=0.05,\n",
    "                             shear_range=0.05,  # set range for random shear\n",
    "                             zoom_range=0.05,  # set range for random zoom\n",
    "                             channel_shift_range=0.,  # set range for random channel shifts\n",
    "                             # set mode for filling points outside the input boundaries\n",
    "                             fill_mode='nearest',\n",
    "                             cval=0.,  # value used for fill_mode = \"constant\"\n",
    "                             horizontal_flip=False,  # randomly flip images y축으로 반사\n",
    "                             vertical_flip=False,  # randomly flip images x축으로 반사\n",
    "                             # set rescaling factor (applied before any other transformation)\n",
    "                             rescale=1./255,\n",
    "                             # set function that will be applied on each input\n",
    "                             preprocessing_function=None,\n",
    "                             # image data format, either \"channels_first\" or \"channels_last\"\n",
    "                             data_format=None,\n",
    "                             # fraction of images reserved for validation (strictly between 0 and 1)\n",
    "                             validation_split=0.0)\n",
    "\n",
    "# Compute quantities required for feature-wise normalization\n",
    "# (std, mean, and principal components if ZCA whitening is applied).\n",
    "datagen.fit(x_train)"
   ]
  },
  {
   "cell_type": "code",
   "execution_count": 6,
   "metadata": {},
   "outputs": [],
   "source": [
    "filepath = \"./modelSave/saved-model-{epoch:02d}-{val_acc:.2f}.hdf5\"\n",
    "checkpoint = keras.callbacks.ModelCheckpoint(filepath, monitor='val_acc', verbose=1, save_best_only=False, mode='max')"
   ]
  },
  {
   "cell_type": "code",
   "execution_count": 15,
   "metadata": {},
   "outputs": [],
   "source": [
    "# for example,\n",
    "n_kernels = 32\n",
    "model = Sequential()\n",
    "\n",
    "# b, 32, 32, 3\n",
    "model.add(Conv2D(n_kernels, (3, 3), activation='relu', kernel_initializer='he_normal', \n",
    "                 padding='valid', input_shape=x_train.shape[1:]))\n",
    "model.add(Conv2D(n_kernels*2, (3, 3), activation='relu', kernel_initializer='he_normal', \n",
    "                 padding='valid'))\n",
    "model.add(BatchNormalization())\n",
    "model.add(MaxPooling2D())\n",
    "\n",
    "# b, 16, 16, 64\n",
    "model.add(Conv2D(n_kernels*2, (3, 3), activation='relu', kernel_initializer='he_normal', padding='valid'))\n",
    "model.add(Conv2D(n_kernels*4, (3, 3), activation='relu', kernel_initializer='he_normal', padding='valid'))\n",
    "model.add(BatchNormalization())\n",
    "model.add(MaxPooling2D())\n",
    "\n",
    "model.add(Conv2D(n_kernels*4, (3, 3), activation='relu', kernel_initializer='he_normal', padding='valid'))\n",
    "model.add(Conv2D(n_kernels*8, (3, 3), activation='relu', kernel_initializer='he_normal', padding='valid'))\n",
    "model.add(Dropout(0.5))\n",
    "model.add(BatchNormalization())\n",
    "model.add(MaxPooling2D())\n",
    "\n",
    "# b, 8, 8, 128\n",
    "model.add(Conv2D(n_kernels*8, (3,3), activation='relu', kernel_initializer='he_normal', padding='valid'))\n",
    "model.add(Dropout(0.5))\n",
    "model.add(BatchNormalization())\n",
    "\n",
    "# [중요] GlobalAveragePooling2D() 플레툰 할 때 쫙 펼쳐서하는 것이 아니라 앞에 단계의 Conv2D에서 도출될 피쳐맵(여기선 3*3*256)에서 각 피쳐(3*3)의 평균으로 256노드에 순차적으로 넣어줌)\n",
    "# 그런데 플래툰하면 256노드가 아니라 3*3*256 노드가 생김\n",
    "model.add(GlobalAveragePooling2D())\n",
    "model.add(Dense(6, activation='softmax', kernel_initializer='glorot_uniform'))"
   ]
  },
  {
   "cell_type": "code",
   "execution_count": 16,
   "metadata": {},
   "outputs": [
    {
     "name": "stdout",
     "output_type": "stream",
     "text": [
      "Model: \"sequential_2\"\n",
      "_________________________________________________________________\n",
      "Layer (type)                 Output Shape              Param #   \n",
      "=================================================================\n",
      "conv2d_6 (Conv2D)            (None, 222, 222, 32)      896       \n",
      "_________________________________________________________________\n",
      "conv2d_7 (Conv2D)            (None, 220, 220, 64)      18496     \n",
      "_________________________________________________________________\n",
      "batch_normalization_4 (Batch (None, 220, 220, 64)      256       \n",
      "_________________________________________________________________\n",
      "max_pooling2d_3 (MaxPooling2 (None, 110, 110, 64)      0         \n",
      "_________________________________________________________________\n",
      "conv2d_8 (Conv2D)            (None, 108, 108, 64)      36928     \n",
      "_________________________________________________________________\n",
      "conv2d_9 (Conv2D)            (None, 106, 106, 128)     73856     \n",
      "_________________________________________________________________\n",
      "batch_normalization_5 (Batch (None, 106, 106, 128)     512       \n",
      "_________________________________________________________________\n",
      "max_pooling2d_4 (MaxPooling2 (None, 53, 53, 128)       0         \n",
      "_________________________________________________________________\n",
      "conv2d_10 (Conv2D)           (None, 51, 51, 128)       147584    \n",
      "_________________________________________________________________\n",
      "conv2d_11 (Conv2D)           (None, 49, 49, 256)       295168    \n",
      "_________________________________________________________________\n",
      "dropout_1 (Dropout)          (None, 49, 49, 256)       0         \n",
      "_________________________________________________________________\n",
      "batch_normalization_6 (Batch (None, 49, 49, 256)       1024      \n",
      "_________________________________________________________________\n",
      "max_pooling2d_5 (MaxPooling2 (None, 24, 24, 256)       0         \n",
      "_________________________________________________________________\n",
      "conv2d_12 (Conv2D)           (None, 22, 22, 256)       590080    \n",
      "_________________________________________________________________\n",
      "dropout_2 (Dropout)          (None, 22, 22, 256)       0         \n",
      "_________________________________________________________________\n",
      "batch_normalization_7 (Batch (None, 22, 22, 256)       1024      \n",
      "_________________________________________________________________\n",
      "global_average_pooling2d_2 ( (None, 256)               0         \n",
      "_________________________________________________________________\n",
      "dense_2 (Dense)              (None, 6)                 1542      \n",
      "=================================================================\n",
      "Total params: 1,167,366\n",
      "Trainable params: 1,165,958\n",
      "Non-trainable params: 1,408\n",
      "_________________________________________________________________\n"
     ]
    }
   ],
   "source": [
    "model.summary()"
   ]
  },
  {
   "cell_type": "code",
   "execution_count": 20,
   "metadata": {},
   "outputs": [],
   "source": [
    "opt = keras.optimizers.rmsprop(lr=0.0005, decay=1e-6)"
   ]
  },
  {
   "cell_type": "code",
   "execution_count": 21,
   "metadata": {},
   "outputs": [],
   "source": [
    "model.compile(loss='categorical_crossentropy',\n",
    "              optimizer=opt,\n",
    "              metrics=['acc'])"
   ]
  },
  {
   "cell_type": "code",
   "execution_count": 22,
   "metadata": {},
   "outputs": [
    {
     "name": "stdout",
     "output_type": "stream",
     "text": [
      "Epoch 1/25\n",
      "20/20 [==============================] - 5s 235ms/step - loss: 0.0379 - acc: 0.9936 - val_loss: 13.5085 - val_acc: 0.1619\n",
      "\n",
      "Epoch 00001: saving model to ./modelSave/saved-model-01-0.16.hdf5\n",
      "Epoch 2/25\n",
      "20/20 [==============================] - 4s 190ms/step - loss: 0.0477 - acc: 0.9873 - val_loss: 13.8155 - val_acc: 0.1429\n",
      "\n",
      "Epoch 00002: saving model to ./modelSave/saved-model-02-0.14.hdf5\n",
      "Epoch 3/25\n",
      "20/20 [==============================] - 4s 191ms/step - loss: 0.0167 - acc: 1.0000 - val_loss: 11.7393 - val_acc: 0.2667\n",
      "\n",
      "Epoch 00003: saving model to ./modelSave/saved-model-03-0.27.hdf5\n",
      "Epoch 4/25\n",
      "20/20 [==============================] - 4s 190ms/step - loss: 0.0093 - acc: 1.0000 - val_loss: 13.8155 - val_acc: 0.1429\n",
      "\n",
      "Epoch 00004: saving model to ./modelSave/saved-model-04-0.14.hdf5\n",
      "Epoch 5/25\n",
      "20/20 [==============================] - 4s 190ms/step - loss: 0.0401 - acc: 0.9936 - val_loss: 12.9235 - val_acc: 0.1810\n",
      "\n",
      "Epoch 00005: saving model to ./modelSave/saved-model-05-0.18.hdf5\n",
      "Epoch 6/25\n",
      "20/20 [==============================] - 4s 191ms/step - loss: 0.0274 - acc: 0.9968 - val_loss: 12.6205 - val_acc: 0.2000\n",
      "\n",
      "Epoch 00006: saving model to ./modelSave/saved-model-06-0.20.hdf5\n",
      "Epoch 7/25\n",
      "20/20 [==============================] - 4s 191ms/step - loss: 0.0210 - acc: 0.9968 - val_loss: 13.6620 - val_acc: 0.1524\n",
      "\n",
      "Epoch 00007: saving model to ./modelSave/saved-model-07-0.15.hdf5\n",
      "Epoch 8/25\n",
      "20/20 [==============================] - 4s 193ms/step - loss: 0.0079 - acc: 1.0000 - val_loss: 13.6620 - val_acc: 0.1524\n",
      "\n",
      "Epoch 00008: saving model to ./modelSave/saved-model-08-0.15.hdf5\n",
      "Epoch 9/25\n",
      "20/20 [==============================] - 4s 194ms/step - loss: 0.0262 - acc: 0.9936 - val_loss: 13.5085 - val_acc: 0.1619\n",
      "\n",
      "Epoch 00009: saving model to ./modelSave/saved-model-09-0.16.hdf5\n",
      "Epoch 10/25\n",
      "20/20 [==============================] - 4s 193ms/step - loss: 0.0247 - acc: 0.9968 - val_loss: 12.4032 - val_acc: 0.2286\n",
      "\n",
      "Epoch 00010: saving model to ./modelSave/saved-model-10-0.23.hdf5\n",
      "Epoch 11/25\n",
      "20/20 [==============================] - 4s 195ms/step - loss: 0.0073 - acc: 1.0000 - val_loss: 13.5910 - val_acc: 0.1524\n",
      "\n",
      "Epoch 00011: saving model to ./modelSave/saved-model-11-0.15.hdf5\n",
      "Epoch 12/25\n",
      "20/20 [==============================] - 4s 191ms/step - loss: 0.0115 - acc: 1.0000 - val_loss: 13.6620 - val_acc: 0.1524\n",
      "\n",
      "Epoch 00012: saving model to ./modelSave/saved-model-12-0.15.hdf5\n",
      "Epoch 13/25\n",
      "20/20 [==============================] - 4s 210ms/step - loss: 0.0308 - acc: 0.9936 - val_loss: 13.6620 - val_acc: 0.1524\n",
      "\n",
      "Epoch 00013: saving model to ./modelSave/saved-model-13-0.15.hdf5\n",
      "Epoch 14/25\n",
      "20/20 [==============================] - 4s 193ms/step - loss: 0.0052 - acc: 1.0000 - val_loss: 13.6620 - val_acc: 0.1524\n",
      "\n",
      "Epoch 00014: saving model to ./modelSave/saved-model-14-0.15.hdf5\n",
      "Epoch 15/25\n",
      "20/20 [==============================] - 4s 192ms/step - loss: 0.0275 - acc: 0.9936 - val_loss: 13.2551 - val_acc: 0.1714\n",
      "\n",
      "Epoch 00015: saving model to ./modelSave/saved-model-15-0.17.hdf5\n",
      "Epoch 16/25\n",
      "20/20 [==============================] - 4s 192ms/step - loss: 0.0086 - acc: 0.9968 - val_loss: 12.3175 - val_acc: 0.2286\n",
      "\n",
      "Epoch 00016: saving model to ./modelSave/saved-model-16-0.23.hdf5\n",
      "Epoch 17/25\n",
      "20/20 [==============================] - 4s 200ms/step - loss: 0.0070 - acc: 1.0000 - val_loss: 13.5085 - val_acc: 0.1619\n",
      "\n",
      "Epoch 00017: saving model to ./modelSave/saved-model-17-0.16.hdf5\n",
      "Epoch 18/25\n",
      "20/20 [==============================] - 4s 192ms/step - loss: 0.0054 - acc: 1.0000 - val_loss: 13.6620 - val_acc: 0.1524\n",
      "\n",
      "Epoch 00018: saving model to ./modelSave/saved-model-18-0.15.hdf5\n",
      "Epoch 19/25\n",
      "20/20 [==============================] - 4s 194ms/step - loss: 0.0077 - acc: 1.0000 - val_loss: 13.6620 - val_acc: 0.1524\n",
      "\n",
      "Epoch 00019: saving model to ./modelSave/saved-model-19-0.15.hdf5\n",
      "Epoch 20/25\n",
      "20/20 [==============================] - 4s 194ms/step - loss: 0.0016 - acc: 1.0000 - val_loss: 13.6620 - val_acc: 0.1524\n",
      "\n",
      "Epoch 00020: saving model to ./modelSave/saved-model-20-0.15.hdf5\n",
      "Epoch 21/25\n",
      "20/20 [==============================] - 4s 191ms/step - loss: 0.0247 - acc: 0.9968 - val_loss: 13.6620 - val_acc: 0.1524\n",
      "\n",
      "Epoch 00021: saving model to ./modelSave/saved-model-21-0.15.hdf5\n",
      "Epoch 22/25\n",
      "20/20 [==============================] - 4s 192ms/step - loss: 0.0125 - acc: 0.9968 - val_loss: 13.6620 - val_acc: 0.1524\n",
      "\n",
      "Epoch 00022: saving model to ./modelSave/saved-model-22-0.15.hdf5\n",
      "Epoch 23/25\n",
      "20/20 [==============================] - 4s 192ms/step - loss: 0.0119 - acc: 0.9936 - val_loss: 11.3594 - val_acc: 0.2952\n",
      "\n",
      "Epoch 00023: saving model to ./modelSave/saved-model-23-0.30.hdf5\n",
      "Epoch 24/25\n",
      "20/20 [==============================] - 4s 194ms/step - loss: 0.0261 - acc: 0.9936 - val_loss: 13.6620 - val_acc: 0.1524\n",
      "\n",
      "Epoch 00024: saving model to ./modelSave/saved-model-24-0.15.hdf5\n",
      "Epoch 25/25\n",
      "20/20 [==============================] - 4s 195ms/step - loss: 0.0046 - acc: 1.0000 - val_loss: 13.6620 - val_acc: 0.1524\n",
      "\n",
      "Epoch 00025: saving model to ./modelSave/saved-model-25-0.15.hdf5\n"
     ]
    },
    {
     "data": {
      "text/plain": [
       "<keras.callbacks.callbacks.History at 0x2648815d278>"
      ]
     },
     "execution_count": 22,
     "metadata": {},
     "output_type": "execute_result"
    }
   ],
   "source": [
    "# Let's train the model using RMSprop\n",
    "model.fit_generator(datagen.flow(x_train, y_train, batch_size=batch_size), epochs=epochs,\n",
    "                    validation_data=(x_test, y_test),\n",
    "                    workers=4, callbacks=[checkpoint])"
   ]
  },
  {
   "cell_type": "code",
   "execution_count": null,
   "metadata": {},
   "outputs": [],
   "source": [
    "test_loss, test_acc = model.evaluate(x_test, y_test, verbose=2)\n",
    "print('\\n 테스트 정확도:', test_acc)"
   ]
  },
  {
   "cell_type": "code",
   "execution_count": null,
   "metadata": {},
   "outputs": [],
   "source": [
    "pred = model.predict(x_test)"
   ]
  },
  {
   "cell_type": "code",
   "execution_count": null,
   "metadata": {},
   "outputs": [],
   "source": [
    "print(pred[0])\n",
    "print(y_test[0])\n",
    "print(np.argmax(pred[0]))"
   ]
  },
  {
   "cell_type": "code",
   "execution_count": null,
   "metadata": {},
   "outputs": [],
   "source": [
    "def plot_image(i, pred, y_test, x_test):\n",
    "    pred, y_test, x_test = pred[i], y_test[i], x_test[i]\n",
    "    plt.grid(False)\n",
    "    plt.xticks([])\n",
    "    plt.yticks([])\n",
    "    \n",
    "    plt.imshow(x_test, cmap=plt.cm.binary)\n",
    "    \n",
    "    pred_label = np.argmax(pred)\n",
    "    test_label = np.argmax(y_test)\n",
    "    print(pred_label)\n",
    "    print(test_label)\n",
    "    if pred_label == test_label:\n",
    "        color = 'blue'\n",
    "    else:\n",
    "        color = 'red'\n",
    "    plt.xlabel(\"{} {:2.0f}% ({})\".format(categories[pred_label], 100*np.max(pred), categories[test_label]),color=color)"
   ]
  },
  {
   "cell_type": "code",
   "execution_count": null,
   "metadata": {},
   "outputs": [],
   "source": [
    "def plot_image(i, pred, y_test, x_test):\n",
    "    pred, y_test, x_test = pred[i], y_test[i], x_test[i]\n",
    "    plt.grid(False)\n",
    "    plt.xticks([])\n",
    "    plt.yticks([])\n",
    "    \n",
    "    plt.imshow(x_test, cmap=plt.cm.binary)\n",
    "    \n",
    "    pred_label = np.argmax(pred)\n",
    "    test_label = np.argmax(y_test)\n",
    "    print(pred_label)\n",
    "    print(test_label)\n",
    "    if pred_label == test_label:\n",
    "        color = 'blue'\n",
    "    else:\n",
    "        color = 'red'\n",
    "    plt.xlabel(\"{} {:2.0f}% ({})\".format(categories[pred_label], 100*np.max(pred), categories[test_label]),color=color)"
   ]
  },
  {
   "cell_type": "code",
   "execution_count": null,
   "metadata": {},
   "outputs": [],
   "source": [
    "i = 4\n",
    "plt.figure(figsize=(6,3))\n",
    "plt.subplot(1,2,1)\n",
    "plot_image(i, pred, y_train, x_train)"
   ]
  },
  {
   "cell_type": "code",
   "execution_count": null,
   "metadata": {},
   "outputs": [],
   "source": [
    "i = 6\n",
    "plt.xticks([])\n",
    "plt.yticks([])\n",
    "plt.imshow(x_train[i], cmap=plt.cm.binary)\n",
    "a = int(np.argmax(y_train[i]))\n",
    "print(categories[a])"
   ]
  },
  {
   "cell_type": "code",
   "execution_count": null,
   "metadata": {},
   "outputs": [],
   "source": []
  },
  {
   "cell_type": "code",
   "execution_count": null,
   "metadata": {},
   "outputs": [],
   "source": []
  }
 ],
 "metadata": {
  "kernelspec": {
   "display_name": "Python 3",
   "language": "python",
   "name": "python3"
  },
  "language_info": {
   "codemirror_mode": {
    "name": "ipython",
    "version": 3
   },
   "file_extension": ".py",
   "mimetype": "text/x-python",
   "name": "python",
   "nbconvert_exporter": "python",
   "pygments_lexer": "ipython3",
   "version": "3.6.10"
  }
 },
 "nbformat": 4,
 "nbformat_minor": 2
}
