{
 "cells": [
  {
   "cell_type": "code",
   "execution_count": 4,
   "metadata": {},
   "outputs": [],
   "source": [
    "from PIL import Image\n",
    "import os, glob, sys, numpy as np\n",
    "from sklearn.model_selection import train_test_split"
   ]
  },
  {
   "cell_type": "code",
   "execution_count": 5,
   "metadata": {},
   "outputs": [
    {
     "name": "stdout",
     "output_type": "stream",
     "text": [
      "['dog', 'eagle', 'elephant', 'horse', 'monkey', 'tiger']\n"
     ]
    }
   ],
   "source": [
    "# Export fold list\n",
    "caltech_dir = \"./data\"\n",
    "categories = next(os.walk(caltech_dir))[1]\n",
    "print(categories)"
   ]
  },
  {
   "cell_type": "code",
   "execution_count": 6,
   "metadata": {},
   "outputs": [
    {
     "name": "stdout",
     "output_type": "stream",
     "text": [
      "dog  파일 길이 :  10\n",
      "dog  :  ./data/dog\\dog_1.jpg\n",
      "eagle  파일 길이 :  10\n",
      "eagle  :  ./data/eagle\\eagle_1.jpg\n",
      "elephant  파일 길이 :  10\n",
      "elephant  :  ./data/elephant\\elephant_1-.jpg\n",
      "horse  파일 길이 :  10\n",
      "horse  :  ./data/horse\\horse_1.jpg\n",
      "monkey  파일 길이 :  10\n",
      "monkey  :  ./data/monkey\\monkey_1.jpg\n",
      "tiger  파일 길이 :  10\n",
      "tiger  :  ./data/tiger\\tiger_1.jpg\n",
      "ok 60\n"
     ]
    }
   ],
   "source": [
    "nb_classes = len(categories)\n",
    "\n",
    "image_w = 244\n",
    "image_h = 244\n",
    "pixels = image_h * image_w * 3\n",
    "\n",
    "x = []\n",
    "y = []\n",
    "for idx, cat in enumerate(categories):\n",
    "    \n",
    "    #one-hot 돌리기.\n",
    "    label = [0 for i in range(nb_classes)]\n",
    "    label[idx] = 1\n",
    "\n",
    "    image_dir = caltech_dir + \"/\" + cat\n",
    "    files = glob.glob(image_dir+\"/*.jpg\")\n",
    "    print(cat, \" 파일 길이 : \", len(files))\n",
    "    for i, f in enumerate(files):\n",
    "        img = Image.open(f)\n",
    "        img = img.convert(\"RGB\")\n",
    "        img = img.resize((image_w, image_h))\n",
    "        data = np.asarray(img)\n",
    "\n",
    "        x.append(data)\n",
    "        y.append(label)\n",
    "\n",
    "        if i % 20 == 0:\n",
    "            print(cat, \" : \", f)\n",
    "\n",
    "x = np.array(x)\n",
    "y = np.array(y)\n",
    "#1 0 0 0 이면 airplanes\n",
    "#0 1 0 0 이면 buddha 이런식\n",
    "\n",
    "x_train, x_test, y_train, y_test = train_test_split(x, y)\n",
    "xy = (x_train, x_test, y_train, y_test)\n",
    "np.save(\"./document_image_data.npy\", xy)\n",
    "\n",
    "print(\"ok\", len(y))"
   ]
  },
  {
   "cell_type": "code",
   "execution_count": null,
   "metadata": {},
   "outputs": [],
   "source": []
  }
 ],
 "metadata": {
  "kernelspec": {
   "display_name": "Python 3",
   "language": "python",
   "name": "python3"
  },
  "language_info": {
   "codemirror_mode": {
    "name": "ipython",
    "version": 3
   },
   "file_extension": ".py",
   "mimetype": "text/x-python",
   "name": "python",
   "nbconvert_exporter": "python",
   "pygments_lexer": "ipython3",
   "version": "3.6.10"
  }
 },
 "nbformat": 4,
 "nbformat_minor": 2
}
