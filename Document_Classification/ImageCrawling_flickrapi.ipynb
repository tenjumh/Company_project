{
 "cells": [
  {
   "cell_type": "code",
   "execution_count": 6,
   "metadata": {},
   "outputs": [
    {
     "ename": "IndexError",
     "evalue": "list index out of range",
     "output_type": "error",
     "traceback": [
      "\u001b[1;31m---------------------------------------------------------------------------\u001b[0m",
      "\u001b[1;31mIndexError\u001b[0m                                Traceback (most recent call last)",
      "\u001b[1;32m<ipython-input-6-1b750249b814>\u001b[0m in \u001b[0;36m<module>\u001b[1;34m\u001b[0m\n\u001b[0;32m     38\u001b[0m         \u001b[1;31m# cv2.imshow('image_temp', image_temp)\u001b[0m\u001b[1;33m\u001b[0m\u001b[1;33m\u001b[0m\u001b[1;33m\u001b[0m\u001b[0m\n\u001b[0;32m     39\u001b[0m         \u001b[1;31m# cv2.waitKey(0)\u001b[0m\u001b[1;33m\u001b[0m\u001b[1;33m\u001b[0m\u001b[1;33m\u001b[0m\u001b[0m\n\u001b[1;32m---> 40\u001b[1;33m \u001b[0mimageCrawling\u001b[0m\u001b[1;33m(\u001b[0m\u001b[1;34m'mouse'\u001b[0m\u001b[1;33m)\u001b[0m\u001b[1;33m\u001b[0m\u001b[1;33m\u001b[0m\u001b[0m\n\u001b[0m\u001b[0;32m     41\u001b[0m \u001b[1;33m\u001b[0m\u001b[0m\n\u001b[0;32m     42\u001b[0m '''\n",
      "\u001b[1;32m<ipython-input-6-1b750249b814>\u001b[0m in \u001b[0;36mimageCrawling\u001b[1;34m(keyword)\u001b[0m\n\u001b[0;32m     32\u001b[0m \u001b[1;33m\u001b[0m\u001b[0m\n\u001b[0;32m     33\u001b[0m     \u001b[1;32mfor\u001b[0m \u001b[0mi\u001b[0m \u001b[1;32min\u001b[0m \u001b[0mrange\u001b[0m\u001b[1;33m(\u001b[0m\u001b[0mpage\u001b[0m\u001b[1;33m)\u001b[0m\u001b[1;33m:\u001b[0m\u001b[1;33m\u001b[0m\u001b[1;33m\u001b[0m\u001b[0m\n\u001b[1;32m---> 34\u001b[1;33m         \u001b[0mimage_original_url\u001b[0m \u001b[1;33m=\u001b[0m \u001b[0mphotos\u001b[0m\u001b[1;33m[\u001b[0m\u001b[1;34m'photo'\u001b[0m\u001b[1;33m]\u001b[0m\u001b[1;33m[\u001b[0m\u001b[0mi\u001b[0m\u001b[1;33m]\u001b[0m\u001b[1;33m[\u001b[0m\u001b[1;34m'url_s'\u001b[0m\u001b[1;33m]\u001b[0m\u001b[1;33m\u001b[0m\u001b[1;33m\u001b[0m\u001b[0m\n\u001b[0m\u001b[0;32m     35\u001b[0m         \u001b[0mimage_temp\u001b[0m \u001b[1;33m=\u001b[0m \u001b[0murl_to_image\u001b[0m\u001b[1;33m(\u001b[0m\u001b[0mimage_original_url\u001b[0m\u001b[1;33m)\u001b[0m\u001b[1;33m\u001b[0m\u001b[1;33m\u001b[0m\u001b[0m\n\u001b[0;32m     36\u001b[0m         \u001b[0mfile_name\u001b[0m \u001b[1;33m=\u001b[0m \u001b[1;34m'./data/train/{}/{}_{}.jpg'\u001b[0m\u001b[1;33m.\u001b[0m\u001b[0mformat\u001b[0m\u001b[1;33m(\u001b[0m\u001b[0mkeyword\u001b[0m\u001b[1;33m,\u001b[0m \u001b[0mkeyword\u001b[0m\u001b[1;33m,\u001b[0m \u001b[0mi\u001b[0m\u001b[1;33m)\u001b[0m\u001b[1;33m\u001b[0m\u001b[1;33m\u001b[0m\u001b[0m\n",
      "\u001b[1;31mIndexError\u001b[0m: list index out of range"
     ]
    }
   ],
   "source": [
    "# import the necessary packages\n",
    "import numpy as np\n",
    "import urllib\n",
    "import cv2\n",
    "from flickrapi import FlickrAPI\n",
    "import ssl, os, sys\n",
    "from pprint import pprint\n",
    "\n",
    "FLICKER_KEY = '505e8c2b05e8b5aa51766a43fc4bc7a7'\n",
    "FLICKER_SECRET = '46b3ef2f43b04ac6'\n",
    "\n",
    "flickr = FlickrAPI(FLICKER_KEY, FLICKER_SECRET, format='parsed-json')\n",
    "extras='url_s'\n",
    "# extras='url_sq,url_t,url_s,url_q,url_m,url_n,url_z,url_c,url_l,url_o'\n",
    "\n",
    "# METHOD #1: OpenCV, NumPy, and urllib\n",
    "def url_to_image(url):\n",
    "# download the image, convert it to a NumPy array, and then read\n",
    "# it into OpenCV format\n",
    "    resp = urllib.request.urlopen(url)\n",
    "    image = np.asarray(bytearray(resp.read()), dtype=\"uint8\")\n",
    "    image = cv2.imdecode(image, cv2.IMREAD_COLOR)\n",
    "\n",
    "    return image\n",
    "\n",
    "def imageCrawling(keyword):\n",
    "    page = 50\n",
    "    path = './data/train/'\n",
    "    os.mkdir(path + keyword)\n",
    "    target = flickr.photos.search(text=keyword, per_page=page, extras=extras)\n",
    "    photos = target['photos']\n",
    "\n",
    "    for i in range(page):\n",
    "        image_original_url = photos['photo'][i]['url_s']\n",
    "        image_temp = url_to_image(image_original_url)\n",
    "        file_name = './data/train/{}/{}_{}.jpg'.format(keyword, keyword, i)\n",
    "        cv2.imwrite(file_name, image_temp)\n",
    "        # cv2.imshow('image_temp', image_temp)\n",
    "        # cv2.waitKey(0)\n",
    "imageCrawling('mouse')\n",
    "\n",
    "'''\n",
    "args = sys.argv[1:]\n",
    "for keyword in args:\n",
    "    def imageCrawling(keyword):\n",
    "        page = 100\n",
    "        path = './data/train/'\n",
    "        os.mkdir(path + keyword)\n",
    "        target = flickr.photos.search(text=keyword, per_page=page, extras=extras)\n",
    "        photos = target['photos']\n",
    "        \n",
    "        for i in range(page):\n",
    "            image_original_url = photos['photo'][i]['url_s']\n",
    "            image_temp = url_to_image(image_original_url)\n",
    "            file_name = './data/train/{}/{}_{}.jpg'.format(keyword, keyword, i)\n",
    "            cv2.imwrite(file_name, image_temp)\n",
    "            # cv2.imshow('image_temp', image_temp)\n",
    "            # cv2.waitKey(0)\n",
    "    imageCrawling(keyword)\n",
    "\n",
    "# pprint(photos)\n",
    "'''"
   ]
  },
  {
   "cell_type": "code",
   "execution_count": null,
   "metadata": {},
   "outputs": [],
   "source": [
    "'''\n",
    "# initialize the list of image URLs to download\n",
    "urls = [\n",
    "    \"https://live.staticflickr.com/65535/48239557012_4408050887_m.jpg\",\n",
    "    \"https://live.staticflickr.com/65535/48239467791_c85039d01f_m.jpg\"\n",
    "]\n",
    "\n",
    "# loop over the image URLs\n",
    "for url in urls:\n",
    "    print('download:', url)\n",
    "    image = url_to_image(url)\n",
    "    cv2.imshow('image', image)\n",
    "    cv2.waitKey(0)\n",
    "'''"
   ]
  },
  {
   "cell_type": "code",
   "execution_count": null,
   "metadata": {},
   "outputs": [],
   "source": []
  }
 ],
 "metadata": {
  "kernelspec": {
   "display_name": "Python 3",
   "language": "python",
   "name": "python3"
  },
  "language_info": {
   "codemirror_mode": {
    "name": "ipython",
    "version": 3
   },
   "file_extension": ".py",
   "mimetype": "text/x-python",
   "name": "python",
   "nbconvert_exporter": "python",
   "pygments_lexer": "ipython3",
   "version": "3.6.10"
  }
 },
 "nbformat": 4,
 "nbformat_minor": 4
}
