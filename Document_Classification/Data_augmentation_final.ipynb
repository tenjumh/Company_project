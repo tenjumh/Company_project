{
 "cells": [
  {
   "cell_type": "code",
   "execution_count": 2,
   "metadata": {},
   "outputs": [
    {
     "name": "stdout",
     "output_type": "stream",
     "text": [
      "dog  파일 길이 :  70\n",
      "eagle  파일 길이 :  70\n",
      "elephant  파일 길이 :  70\n",
      "horse  파일 길이 :  69\n",
      "monkey  파일 길이 :  70\n",
      "tiger  파일 길이 :  69\n"
     ]
    }
   ],
   "source": [
    "from keras.preprocessing.image import ImageDataGenerator, array_to_img, img_to_array, load_img\n",
    "import os, glob, sys, numpy as np\n",
    "from PIL import Image\n",
    "from keras.preprocessing.image import ImageDataGenerator, array_to_img, img_to_array, load_img\n",
    "import os, glob, sys, numpy as np\n",
    "from Save_dataset_to_npy import categories\n",
    "\n",
    "datagen = ImageDataGenerator(featurewise_center=False,  # set input mean to 0 over the dataset\n",
    "                             samplewise_center=False,  # set each sample mean to 0\n",
    "                             featurewise_std_normalization=False,  # divide inputs by std of the dataset\n",
    "                             samplewise_std_normalization=False,  # divide each input by its std\n",
    "                             zca_whitening=False,  # apply ZCA whitening\n",
    "                             zca_epsilon=1e-06,  # epsilon for ZCA whitening\n",
    "                             rotation_range=1,  # randomly rotate images in the range (degrees, 0 to 180)\n",
    "                             # randomly shift images horizontally (fraction of total width)\n",
    "                             width_shift_range=0.5,\n",
    "                             # randomly shift images vertically (fraction of total height)\n",
    "                             height_shift_range=0.5,\n",
    "                             shear_range=0.5,  # set range for random shear\n",
    "                             zoom_range=0.5,  # set range for random zoom\n",
    "                             channel_shift_range=0.,  # set range for random channel shifts\n",
    "                             # set mode for filling points outside the input boundaries\n",
    "                             fill_mode='nearest',\n",
    "                             cval=0.,  # value used for fill_mode = \"constant\"\n",
    "                             horizontal_flip=False,  # randomly flip images y축으로 반사\n",
    "                             vertical_flip=False,  # randomly flip images x축으로 반사\n",
    "                             # set rescaling factor (applied before any other transformation)\n",
    "                             rescale=1./255,\n",
    "                             # set function that will be applied on each input\n",
    "                             preprocessing_function=None,\n",
    "                             # image data format, either \"channels_first\" or \"channels_last\"\n",
    "                             data_format=None,\n",
    "                             # fraction of images reserved for validation (strictly between 0 and 1)\n",
    "                             validation_split=0.0)\n",
    "                             \n",
    "\n",
    "caltech_dir = \"./data\"\n",
    "nb_classes = len(categories)\n",
    "\n",
    "for idx, cat in enumerate(categories):\n",
    "    #one-hot 돌리기\n",
    "    label = [0 for i in range(nb_classes)]\n",
    "    label[idx] = 1\n",
    "    \n",
    "    image_dir = caltech_dir + \"/\" + cat\n",
    "    files = glob.glob(image_dir+\"\\\\*.jpg\")\n",
    "    \n",
    "    print(cat, \" 파일 길이 : \", len(files))\n",
    "    for i, f in enumerate(files):\n",
    "        img = Image.open(f)\n",
    "        x = img_to_array(img)  # this is a Numpy array with shape (3, 150, 150)\n",
    "        x = x.reshape((1,) + x.shape)  # this is a Numpy array with shape (1, 3, 150, 150)\n",
    "\n",
    "        # the .flow() command below generates batches of randomly transformed images\n",
    "        # and saves the results to the `preview/` directory\n",
    "        i = 0\n",
    "        save_to_dir='./data/%s'%(cat)\n",
    "        save_prefix='%s'%(cat)\n",
    "        for batch in datagen.flow(x, batch_size=1,\n",
    "                                  save_to_dir=save_to_dir, save_prefix=save_prefix, save_format='jpg'):\n",
    "            i += 1\n",
    "            if i > 5:\n",
    "                break  # otherwise the generator would loop indefinitely"
   ]
  },
  {
   "cell_type": "code",
   "execution_count": null,
   "metadata": {},
   "outputs": [],
   "source": []
  }
 ],
 "metadata": {
  "kernelspec": {
   "display_name": "Python 3",
   "language": "python",
   "name": "python3"
  },
  "language_info": {
   "codemirror_mode": {
    "name": "ipython",
    "version": 3
   },
   "file_extension": ".py",
   "mimetype": "text/x-python",
   "name": "python",
   "nbconvert_exporter": "python",
   "pygments_lexer": "ipython3",
   "version": "3.6.10"
  }
 },
 "nbformat": 4,
 "nbformat_minor": 2
}
