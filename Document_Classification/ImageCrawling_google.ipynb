{
 "cells": [
  {
   "cell_type": "code",
   "execution_count": 8,
   "metadata": {},
   "outputs": [
    {
     "ename": "FileExistsError",
     "evalue": "[WinError 183] 파일이 이미 있으므로 만들 수 없습니다: './data/train/tiger'",
     "output_type": "error",
     "traceback": [
      "\u001b[1;31m---------------------------------------------------------------------------\u001b[0m",
      "\u001b[1;31mFileExistsError\u001b[0m                           Traceback (most recent call last)",
      "\u001b[1;32m<ipython-input-8-e2db13189b62>\u001b[0m in \u001b[0;36m<module>\u001b[1;34m\u001b[0m\n\u001b[0;32m     22\u001b[0m \u001b[1;33m\u001b[0m\u001b[0m\n\u001b[0;32m     23\u001b[0m     \u001b[0mpaths\u001b[0m \u001b[1;33m=\u001b[0m \u001b[0mresponse\u001b[0m\u001b[1;33m.\u001b[0m\u001b[0mdownload\u001b[0m\u001b[1;33m(\u001b[0m\u001b[0marguments\u001b[0m\u001b[1;33m)\u001b[0m\u001b[1;33m\u001b[0m\u001b[1;33m\u001b[0m\u001b[0m\n\u001b[1;32m---> 24\u001b[1;33m \u001b[0mimageCrawling\u001b[0m\u001b[1;33m(\u001b[0m\u001b[1;34m'tiger'\u001b[0m\u001b[1;33m)\u001b[0m\u001b[1;33m\u001b[0m\u001b[1;33m\u001b[0m\u001b[0m\n\u001b[0m\u001b[0;32m     25\u001b[0m \u001b[1;33m\u001b[0m\u001b[0m\n\u001b[0;32m     26\u001b[0m '''\n",
      "\u001b[1;32m<ipython-input-8-e2db13189b62>\u001b[0m in \u001b[0;36mimageCrawling\u001b[1;34m(keyword)\u001b[0m\n\u001b[0;32m     10\u001b[0m     \u001b[0mresponse\u001b[0m \u001b[1;33m=\u001b[0m \u001b[0mgoogle_images_download\u001b[0m\u001b[1;33m.\u001b[0m\u001b[0mgoogleimagesdownload\u001b[0m\u001b[1;33m(\u001b[0m\u001b[1;33m)\u001b[0m\u001b[1;33m\u001b[0m\u001b[1;33m\u001b[0m\u001b[0m\n\u001b[0;32m     11\u001b[0m     \u001b[0mpath\u001b[0m \u001b[1;33m=\u001b[0m \u001b[1;34m'./data/train/'\u001b[0m\u001b[1;33m\u001b[0m\u001b[1;33m\u001b[0m\u001b[0m\n\u001b[1;32m---> 12\u001b[1;33m     \u001b[0mos\u001b[0m\u001b[1;33m.\u001b[0m\u001b[0mmkdir\u001b[0m\u001b[1;33m(\u001b[0m\u001b[0mpath\u001b[0m \u001b[1;33m+\u001b[0m \u001b[0mkeyword\u001b[0m\u001b[1;33m)\u001b[0m\u001b[1;33m\u001b[0m\u001b[1;33m\u001b[0m\u001b[0m\n\u001b[0m\u001b[0;32m     13\u001b[0m     \u001b[0mdir\u001b[0m \u001b[1;33m=\u001b[0m \u001b[0mpath\u001b[0m \u001b[1;33m+\u001b[0m \u001b[0mkeyword\u001b[0m\u001b[1;33m\u001b[0m\u001b[1;33m\u001b[0m\u001b[0m\n\u001b[0;32m     14\u001b[0m     arguments = {\"keywords\": keyword,  # 검색 키워드\n",
      "\u001b[1;31mFileExistsError\u001b[0m: [WinError 183] 파일이 이미 있으므로 만들 수 없습니다: './data/train/tiger'"
     ]
    }
   ],
   "source": [
    "# pip install google_images_download\n",
    "\n",
    "from google_images_download import google_images_download\n",
    "import ssl, os, sys  # ssl Error 발생 시\n",
    "\n",
    "ssl._create_default_https_context = ssl._create_unverified_context\n",
    "\n",
    "def imageCrawling(keyword):\n",
    "    response = google_images_download.googleimagesdownload()\n",
    "    path = './data/train/'\n",
    "    os.mkdir(path + keyword)\n",
    "    dir = path + keyword\n",
    "    arguments = {\"keywords\": keyword,  # 검색 키워드\n",
    "                 \"limit\": 100,  # 크롤링 이미지 수\n",
    "                 \"format\": \"jpg\",  #jpg, gif, png, bmp, svg, webp, ico\n",
    "                 #\"size\": , #large, medium, icon, >400*300, >640*480, >800*600, >1024*768, >2MP, >4MP, >6MP, >8MP, >10MP\n",
    "                 #\"time\": , #past-24-hours, past-7-days\n",
    "                 \"print_urls\": True,  # 이미지 url 출력\n",
    "                 \"no_directory\": True,  #\n",
    "                 'output_directory': dir}  # 크롤링 이미지를 저장할 폴더\n",
    "\n",
    "    paths = response.download(arguments)\n",
    "imageCrawling('tiger')\n",
    "\n",
    "'''\n",
    "args = sys.argv[1:]\n",
    "for keyword in args:\n",
    "    def imageCrawling(keyword):\n",
    "        response = google_images_download.googleimagesdownload()\n",
    "        path = './data/train/'\n",
    "        os.mkdir(path + keyword)\n",
    "        dir = path + keyword\n",
    "        arguments = {\"keywords\": keyword,  # 검색 키워드\n",
    "                     #\"suffix_keywords\": subkeyword, #메인 키워드 추가 키워드\n",
    "                     \"limit\": 100,  # 크롤링 이미지 수\n",
    "                     \"format\": \"jpg\",  #jpg, gif, png, bmp, svg, webp, ico\n",
    "                     #\"size\": , #large, medium, icon, >400*300, >640*480, >800*600, >1024*768, >2MP, >4MP, >6MP, >8MP, >10MP\n",
    "                     #\"time\": , #past-24-hours, past-7-days\n",
    "                     \"print_urls\": True,  # 이미지 url 출력\n",
    "                     \"no_directory\": True,  #\n",
    "                     'output_directory': dir}  # 크롤링 이미지를 저장할 폴더\n",
    "\n",
    "        paths = response.download(arguments)\n",
    "    imageCrawling(keyword)\n",
    "    \n",
    "# sys.argv[1:]  -> $ py ImageCrawling.py dog horse ... 하여 크롤링함\n",
    "'''"
   ]
  },
  {
   "cell_type": "code",
   "execution_count": 5,
   "metadata": {},
   "outputs": [
    {
     "name": "stderr",
     "output_type": "stream",
     "text": [
      "ERROR:root:Internal Python error in the inspect module.\n",
      "Below is the traceback from this internal error.\n",
      "\n"
     ]
    },
    {
     "name": "stdout",
     "output_type": "stream",
     "text": [
      "\n",
      "Item no.: 1 --> Item name = dog\n",
      "Evaluating...\n",
      "Looks like we cannot locate the path the 'chromedriver' (use the '--chromedriver' argument to specify the path to the executable.) or google chrome browser is not installed on your machine (exception: argument of type 'NoneType' is not iterable)\n",
      "Traceback (most recent call last):\n",
      "  File \"c:\\anaconda3\\envs\\tensorflow\\lib\\site-packages\\google_images_download\\google_images_download.py\", line 177, in download_extended_page\n",
      "    browser = webdriver.Chrome(chromedriver, chrome_options=options)\n",
      "  File \"c:\\anaconda3\\envs\\tensorflow\\lib\\site-packages\\selenium\\webdriver\\chrome\\webdriver.py\", line 73, in __init__\n",
      "    self.service.start()\n",
      "  File \"c:\\anaconda3\\envs\\tensorflow\\lib\\site-packages\\selenium\\webdriver\\common\\service.py\", line 76, in start\n",
      "    stdin=PIPE)\n",
      "  File \"c:\\anaconda3\\envs\\tensorflow\\lib\\subprocess.py\", line 729, in __init__\n",
      "    restore_signals, start_new_session)\n",
      "  File \"c:\\anaconda3\\envs\\tensorflow\\lib\\subprocess.py\", line 991, in _execute_child\n",
      "    args = list2cmdline(args)\n",
      "  File \"c:\\anaconda3\\envs\\tensorflow\\lib\\subprocess.py\", line 481, in list2cmdline\n",
      "    needquote = (\" \" in arg) or (\"\\t\" in arg) or not arg\n",
      "TypeError: argument of type 'NoneType' is not iterable\n",
      "\n",
      "During handling of the above exception, another exception occurred:\n",
      "\n",
      "Traceback (most recent call last):\n",
      "  File \"c:\\anaconda3\\envs\\tensorflow\\lib\\site-packages\\IPython\\core\\interactiveshell.py\", line 3331, in run_code\n",
      "    exec(code_obj, self.user_global_ns, self.user_ns)\n",
      "  File \"<ipython-input-5-7ed8e4267132>\", line 8, in <module>\n",
      "    paths = response.download(arguments)\n",
      "  File \"c:\\anaconda3\\envs\\tensorflow\\lib\\site-packages\\google_images_download\\google_images_download.py\", line 825, in download\n",
      "    paths, errors = self.download_executor(arguments)\n",
      "  File \"c:\\anaconda3\\envs\\tensorflow\\lib\\site-packages\\google_images_download\\google_images_download.py\", line 945, in download_executor\n",
      "    raw_html = self.download_extended_page(url,arguments['chromedriver'])\n",
      "  File \"c:\\anaconda3\\envs\\tensorflow\\lib\\site-packages\\google_images_download\\google_images_download.py\", line 182, in download_extended_page\n",
      "    sys.exit()\n",
      "SystemExit\n",
      "\n",
      "During handling of the above exception, another exception occurred:\n",
      "\n",
      "Traceback (most recent call last):\n",
      "  File \"c:\\anaconda3\\envs\\tensorflow\\lib\\site-packages\\IPython\\core\\ultratb.py\", line 1151, in get_records\n",
      "    return _fixed_getinnerframes(etb, number_of_lines_of_context, tb_offset)\n",
      "  File \"c:\\anaconda3\\envs\\tensorflow\\lib\\site-packages\\IPython\\core\\ultratb.py\", line 319, in wrapped\n",
      "    return f(*args, **kwargs)\n",
      "  File \"c:\\anaconda3\\envs\\tensorflow\\lib\\site-packages\\IPython\\core\\ultratb.py\", line 353, in _fixed_getinnerframes\n",
      "    records = fix_frame_records_filenames(inspect.getinnerframes(etb, context))\n",
      "  File \"c:\\anaconda3\\envs\\tensorflow\\lib\\inspect.py\", line 1490, in getinnerframes\n",
      "    frameinfo = (tb.tb_frame,) + getframeinfo(tb, context)\n",
      "AttributeError: 'tuple' object has no attribute 'tb_frame'\n"
     ]
    },
    {
     "ename": "SystemExit",
     "evalue": "",
     "output_type": "error",
     "traceback": [
      "An exception has occurred, use %tb to see the full traceback.\n",
      "\u001b[1;31m---------------------------------------------------------------------------\u001b[0m",
      "\nDuring handling of the above exception, another exception occurred:\n",
      "\u001b[1;31mSystemExit\u001b[0m\n"
     ]
    }
   ],
   "source": [
    "from google_images_download import google_images_download  \n",
    "\n",
    "dir = './data/train/dog'\n",
    "response = google_images_download.googleimagesdownload() \n",
    "chromedriver = './data/train/dog'\n",
    "\n",
    "arguments = {\"keywords\":\"dog\",\"limit\":200,\"print_urls\":True, 'output_directory': dir}  \n",
    "paths = response.download(arguments)\n",
    "print(paths) "
   ]
  },
  {
   "cell_type": "code",
   "execution_count": null,
   "metadata": {},
   "outputs": [],
   "source": []
  }
 ],
 "metadata": {
  "kernelspec": {
   "display_name": "Python 3",
   "language": "python",
   "name": "python3"
  },
  "language_info": {
   "codemirror_mode": {
    "name": "ipython",
    "version": 3
   },
   "file_extension": ".py",
   "mimetype": "text/x-python",
   "name": "python",
   "nbconvert_exporter": "python",
   "pygments_lexer": "ipython3",
   "version": "3.6.10"
  }
 },
 "nbformat": 4,
 "nbformat_minor": 4
}
