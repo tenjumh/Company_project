{
 "cells": [
  {
   "cell_type": "code",
   "execution_count": null,
   "metadata": {},
   "outputs": [],
   "source": [
    "from keras.preprocessing.image import ImageDataGenerator"
   ]
  },
  {
   "cell_type": "code",
   "execution_count": null,
   "metadata": {},
   "outputs": [],
   "source": [
    "print('Using real-time data augmentation.')\n",
    "\n",
    "def data_agumentation():\n",
    "    # This will do preprocessing and realtime data augmentation:    \n",
    "    datagen = ImageDataGenerator(featurewise_center=False,  # set input mean to 0 over the dataset\n",
    "                                 samplewise_center=False,  # set each sample mean to 0\n",
    "                                 featurewise_std_normalization=False,  # divide inputs by std of the dataset\n",
    "                                 samplewise_std_normalization=False,  # divide each input by its std\n",
    "                                 zca_whitening=False,  # apply ZCA whitening\n",
    "                                 zca_epsilon=1e-06,  # epsilon for ZCA whitening\n",
    "                                 rotation_range=1,  # randomly rotate images in the range (degrees, 0 to 180)\n",
    "                                 # randomly shift images horizontally (fraction of total width)\n",
    "                                 width_shift_range=0.05,\n",
    "                                 # randomly shift images vertically (fraction of total height)\n",
    "                                 height_shift_range=0.05,\n",
    "                                 shear_range=0.05.,  # set range for random shear\n",
    "                                 zoom_range=00.5.,  # set range for random zoom\n",
    "                                 channel_shift_range=0.,  # set range for random channel shifts\n",
    "                                 # set mode for filling points outside the input boundaries\n",
    "                                 fill_mode='nearest',\n",
    "                                 cval=0.,  # value used for fill_mode = \"constant\"\n",
    "                                 horizontal_flip=False,  # randomly flip images y축으로 반사\n",
    "                                 vertical_flip=False,  # randomly flip images x축으로 반사\n",
    "                                 # set rescaling factor (applied before any other transformation)\n",
    "                                 rescale=1./255,\n",
    "                                 # set function that will be applied on each input\n",
    "                                 preprocessing_function=None,\n",
    "                                 # image data format, either \"channels_first\" or \"channels_last\"\n",
    "                                 data_format=None,\n",
    "                                 # fraction of images reserved for validation (strictly between 0 and 1)\n",
    "                                 validation_split=0.0)\n",
    "    return datagen"
   ]
  }
 ],
 "metadata": {
  "kernelspec": {
   "display_name": "Python 3",
   "language": "python",
   "name": "python3"
  },
  "language_info": {
   "codemirror_mode": {
    "name": "ipython",
    "version": 3
   },
   "file_extension": ".py",
   "mimetype": "text/x-python",
   "name": "python",
   "nbconvert_exporter": "python",
   "pygments_lexer": "ipython3",
   "version": "3.6.10"
  }
 },
 "nbformat": 4,
 "nbformat_minor": 2
}
